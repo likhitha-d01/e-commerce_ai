{
  "nbformat": 4,
  "nbformat_minor": 0,
  "metadata": {
    "accelerator": "GPU",
    "colab": {
      "name": "ImageCaptioning_V5.ipynb",
      "provenance": [],
      "collapsed_sections": [],
      "toc_visible": true
    },
    "kernelspec": {
      "display_name": "Python 3",
      "name": "python3"
    }
  },
  "cells": [
    {
      "cell_type": "markdown",
      "metadata": {
        "id": "W5fxkvWAbVLc"
      },
      "source": [
        "# **Version 5**\n",
        "----\n",
        "Image Captioning model with category prediction.\n",
        "\n",
        "Model with image encoder and language encoder.\n",
        "\n",
        "Image encoder is the features extracted from a pre-trained model, with additional convolutional layers. \n",
        "\n",
        "Language encoder is built using GRUs, Attention layers for the partial text of the caption.\n",
        "\n",
        "The features are then merged to predict the next word in for the caption.\n",
        "\n",
        "There are 12 categories of clothing. Excluding the jewellery category"
      ]
    },
    {
      "cell_type": "markdown",
      "metadata": {
        "id": "eeHVKG0KcNMf"
      },
      "source": [
        "#### Importing the necessary libraries."
      ]
    },
    {
      "cell_type": "code",
      "metadata": {
        "id": "gRdWl7MuNCL_",
        "colab": {
          "base_uri": "https://localhost:8080/"
        },
        "outputId": "00935187-1d3a-4bda-8191-c756ff97d2c9"
      },
      "source": [
        "from google.colab import drive\n",
        "drive.mount('/content/drive')"
      ],
      "execution_count": null,
      "outputs": [
        {
          "output_type": "stream",
          "text": [
            "Mounted at /content/drive\n"
          ],
          "name": "stdout"
        }
      ]
    },
    {
      "cell_type": "code",
      "metadata": {
        "id": "6VtRuVqqdD0s"
      },
      "source": [
        "import pickle\n",
        "import numpy as np\n",
        "import os\n",
        "import cv2\n",
        "import string\n",
        "from collections import Counter\n",
        "from PIL import Image\n",
        "import string\n",
        "from tensorflow.keras.preprocessing.text import Tokenizer\n",
        "from tensorflow.keras.preprocessing.sequence import pad_sequences\n",
        "from tensorflow.keras.utils import to_categorical\n",
        "from tensorflow.keras.preprocessing.image import load_img\n",
        "from tensorflow.keras.preprocessing.image import img_to_array\n",
        "from sklearn.model_selection import train_test_split\n",
        "from tensorflow.keras.layers import Input, Add, Conv2D, MaxPooling2D\n",
        "from tensorflow.keras.layers import Dense, Concatenate, Flatten\n",
        "from tensorflow.keras.layers import LSTM, Bidirectional, GRU\n",
        "from tensorflow.keras.layers import Embedding\n",
        "from tensorflow.keras.layers import Dropout\n",
        "from tensorflow.keras.models import Model\n",
        "from tensorflow.keras.applications import ResNet50V2, VGG16\n",
        "from tensorflow.keras.preprocessing.image import load_img, img_to_array\n",
        "from tensorflow.keras import backend as K\n",
        "from tensorflow.keras import initializers, regularizers, constraints\n",
        "from tensorflow.keras.layers import Layer\n",
        "from tensorflow.keras.optimizers import Adam\n",
        "import random\n",
        "import json"
      ],
      "execution_count": null,
      "outputs": []
    },
    {
      "cell_type": "code",
      "metadata": {
        "id": "hXDWZRt5da7B"
      },
      "source": [
        "main_dir = '/content/drive/My Drive/ImageCaptioning/'"
      ],
      "execution_count": null,
      "outputs": []
    },
    {
      "cell_type": "markdown",
      "metadata": {
        "id": "ZGopE5M7dckX"
      },
      "source": [
        "#### Creating the requirements.txt file"
      ]
    },
    {
      "cell_type": "code",
      "metadata": {
        "id": "J5j4ryPLdjDL",
        "colab": {
          "base_uri": "https://localhost:8080/"
        },
        "outputId": "219ed789-e95b-4bc8-ddbc-f178e3b7b478"
      },
      "source": [
        "!pip3 install pipreqsnb\n",
        "!pipreqsnb --savepath 'requirements.txt' '/content/drive/My Drive/Colab Notebooks/ImageCaptioning_V5.ipynb'"
      ],
      "execution_count": null,
      "outputs": [
        {
          "output_type": "stream",
          "text": [
            "Collecting pipreqsnb\n",
            "  Downloading https://files.pythonhosted.org/packages/4c/7b/fb9613f08d4a65fedc123e1020d9772af7ea7e29e417457afdda7bf3b656/pipreqsnb-0.2.3.tar.gz\n",
            "Collecting pipreqs\n",
            "  Downloading https://files.pythonhosted.org/packages/9b/83/b1560948400a07ec094a15c2f64587b70e1a5ab5f7b375ba902fcab5b6c3/pipreqs-0.4.10-py2.py3-none-any.whl\n",
            "Requirement already satisfied: docopt in /usr/local/lib/python3.6/dist-packages (from pipreqs->pipreqsnb) (0.6.2)\n",
            "Collecting yarg\n",
            "  Downloading https://files.pythonhosted.org/packages/8b/90/89a2ff242ccab6a24fbab18dbbabc67c51a6f0ed01f9a0f41689dc177419/yarg-0.1.9-py2.py3-none-any.whl\n",
            "Requirement already satisfied: requests in /usr/local/lib/python3.6/dist-packages (from yarg->pipreqs->pipreqsnb) (2.23.0)\n",
            "Requirement already satisfied: urllib3!=1.25.0,!=1.25.1,<1.26,>=1.21.1 in /usr/local/lib/python3.6/dist-packages (from requests->yarg->pipreqs->pipreqsnb) (1.24.3)\n",
            "Requirement already satisfied: idna<3,>=2.5 in /usr/local/lib/python3.6/dist-packages (from requests->yarg->pipreqs->pipreqsnb) (2.10)\n",
            "Requirement already satisfied: certifi>=2017.4.17 in /usr/local/lib/python3.6/dist-packages (from requests->yarg->pipreqs->pipreqsnb) (2020.6.20)\n",
            "Requirement already satisfied: chardet<4,>=3.0.2 in /usr/local/lib/python3.6/dist-packages (from requests->yarg->pipreqs->pipreqsnb) (3.0.4)\n",
            "Building wheels for collected packages: pipreqsnb\n",
            "  Building wheel for pipreqsnb (setup.py) ... \u001b[?25l\u001b[?25hdone\n",
            "  Created wheel for pipreqsnb: filename=pipreqsnb-0.2.3-cp36-none-any.whl size=4093 sha256=6726a44deadf5ce5753087273342c59fe478e1b5a8d0dc62f3bfbae54ce2e6e2\n",
            "  Stored in directory: /root/.cache/pip/wheels/0b/7f/8c/398433fa8cd44f546c711f5314a1ee01f038bcfc771a2d3588\n",
            "Successfully built pipreqsnb\n",
            "Installing collected packages: yarg, pipreqs, pipreqsnb\n",
            "Successfully installed pipreqs-0.4.10 pipreqsnb-0.2.3 yarg-0.1.9\n",
            "pipreqs  --savepath requirements.txt .//__temp_pipreqsnb_folder/\n",
            "INFO: Successfully saved requirements file in requirements.txt\n"
          ],
          "name": "stdout"
        }
      ]
    },
    {
      "cell_type": "markdown",
      "metadata": {
        "id": "vHH1Ahv_dovb"
      },
      "source": [
        "#### Loading the annotations file, pre-processing it"
      ]
    },
    {
      "cell_type": "code",
      "metadata": {
        "id": "OU-cJ8OYdwkP",
        "colab": {
          "base_uri": "https://localhost:8080/"
        },
        "outputId": "ab912e8e-73ef-4a6e-c312-8c965fdd6342"
      },
      "source": [
        "# loading the annotations file\n",
        "def load_doc(filename):\n",
        "    file = open(filename, 'r')\n",
        "    text = file.read()\n",
        "    file.close()\n",
        "    return text\n",
        "\n",
        "# extract descriptions for images\n",
        "def load_descriptions(doc):\n",
        "    mapping = dict()\n",
        "    cat_mapping = dict()\n",
        "    for line in doc.split('\\n'):\n",
        "        tokens = line.strip().split('\\t')\n",
        "        if len(line) < 2:\n",
        "            continue\n",
        "        image_id, image_desc, image_cat = tokens[0], tokens[1], tokens[2]\n",
        "        image_id = image_id.split('.')[0]\n",
        "        image_desc = image_desc\n",
        "        if image_id not in mapping:\n",
        "            mapping[image_id] = image_desc\n",
        "            cat_mapping[image_id] = image_cat\n",
        "    return mapping, cat_mapping\n",
        "\n",
        "def clean_descriptions(descriptions):\n",
        "    table = str.maketrans('', '', string.punctuation)\n",
        "    for key, desc in descriptions.items():\n",
        "        desc = desc.split(' ')\n",
        "        desc = [word.lower() for word in desc]\n",
        "        desc = [w.translate(table) for w in desc]\n",
        "        desc = [word for word in desc if len(word)>1]\n",
        "        descriptions[key] =  ' '.join(desc)\n",
        "\n",
        "# save descriptions to file, one per line\n",
        "def save_doc(descriptions, filename):\n",
        "    lines = list()\n",
        "    for key, desc in descriptions.items():\n",
        "        lines.append(key + '\\t' + desc)\n",
        "    data = '\\n'.join(lines)\n",
        "    file = open(filename, 'w')\n",
        "    file.write(data)\n",
        "    file.close()\n",
        "\n",
        "filename = main_dir + 'annotations_v5.txt'\n",
        "doc = load_doc(filename)\n",
        "print('Finished loading', filename)\n",
        "descriptions, categories = load_descriptions(doc)\n",
        "print('Loaded: %d ' % len(descriptions))\n",
        "clean_descriptions(descriptions)\n",
        "print(\"Finished cleaning descriptions\")\n",
        "all_tokens = ' '.join(descriptions.values()).split()\n",
        "vocabulary = set(all_tokens)\n",
        "print('Vocabulary Size: %d' % len(vocabulary))\n",
        "unq_categories = set(categories.values())\n",
        "print('Number of categories: %d' % len(unq_categories))\n",
        "print(\"The unique categories are\", unq_categories)\n",
        "#save_doc(descriptions, main_dir+'descriptions_v2.txt')"
      ],
      "execution_count": null,
      "outputs": [
        {
          "output_type": "stream",
          "text": [
            "Finished loading /content/drive/My Drive/ImageCaptioning/annotations_v5.txt\n",
            "Loaded: 31041 \n",
            "Finished cleaning descriptions\n",
            "Vocabulary Size: 2247\n",
            "Number of categories: 14\n",
            "The unique categories are {\"Women's Kurtas\", \"Men's Jeans\", \"Women's Sarees\", \"Men's Shirts\", \"Men's Shoes\", \"Men's Jackets\", \"Women's Shirts\", \"Women's Shoes\", \"Women's Dresses\", \"Women's Tops\", \"Women's T-Shirts\", \"Men's T-Shirts\", \"Women's Jeans\", \"Women's Jackets\"}\n"
          ],
          "name": "stdout"
        }
      ]
    },
    {
      "cell_type": "markdown",
      "metadata": {
        "id": "gsHPy7xteCIe"
      },
      "source": [
        "#### Shuffling and splitting the data to training, validation and testing dataset."
      ]
    },
    {
      "cell_type": "code",
      "metadata": {
        "id": "nTnMcRHteT5M",
        "colab": {
          "base_uri": "https://localhost:8080/"
        },
        "outputId": "3c373b44-e6f4-49ab-d239-bae5ddceb2b0"
      },
      "source": [
        "product_ids = list(descriptions.keys())\n",
        "for i in range(10):\n",
        "    random.shuffle(product_ids)\n",
        "train_product_ids = product_ids[:int(0.9*len(product_ids))]\n",
        "random.shuffle(train_product_ids)\n",
        "val_product_ids = product_ids[int(0.9*len(product_ids)):int(0.95*len(product_ids))]\n",
        "random.shuffle(val_product_ids)\n",
        "test_product_ids = product_ids[int(0.95*len(product_ids)):]\n",
        "random.shuffle(test_product_ids)\n",
        "print(len(product_ids))\n",
        "print(len(train_product_ids))\n",
        "print(len(val_product_ids))\n",
        "print(len(test_product_ids))"
      ],
      "execution_count": null,
      "outputs": [
        {
          "output_type": "stream",
          "text": [
            "31041\n",
            "27936\n",
            "1552\n",
            "1553\n"
          ],
          "name": "stdout"
        }
      ]
    },
    {
      "cell_type": "markdown",
      "metadata": {
        "id": "bpPqNf8vfI7F"
      },
      "source": [
        "#### Pre-processing to find vocab_size and max_caption_length"
      ]
    },
    {
      "cell_type": "code",
      "metadata": {
        "id": "u2PgAG03h0mG"
      },
      "source": [
        "### PREPROCESSING CAPTIONS FOR TRAINING\n",
        "def load_captions(descriptions,train_product_ids):\n",
        "    train_captions=[]\n",
        "    for image_id in descriptions.keys():\n",
        "      if image_id in train_product_ids:\n",
        "        train_captions.append('startseq '+descriptions[image_id]+' endseq')\n",
        "    \n",
        "    return train_captions\n",
        "\n",
        "captions = load_captions(descriptions, product_ids)"
      ],
      "execution_count": null,
      "outputs": []
    },
    {
      "cell_type": "code",
      "metadata": {
        "id": "lVSYFnweh1NY",
        "colab": {
          "base_uri": "https://localhost:8080/"
        },
        "outputId": "fb934cc8-0e16-4e6a-f32f-60a941a06523"
      },
      "source": [
        "# WORD TO INDEX DICTIONARY\n",
        "\n",
        "corpus = []\n",
        "for caption in captions:\n",
        "    for token in caption.split():\n",
        "        corpus.append(token)\n",
        "        \n",
        "hash_map = Counter(corpus)\n",
        "vocab = []\n",
        "for token,count in hash_map.items():\n",
        "        if count > 1:\n",
        "            vocab.append(token)\n",
        "        \n",
        "print('Number of original tokens',len(hash_map))\n",
        "print('Number of tokens after threshold',len(vocab))\n",
        "\n",
        "word_to_index = {}\n",
        "index_to_word = {}\n",
        "    \n",
        "for idx,token in enumerate(vocab):\n",
        "    word_to_index[token] = idx+1\n",
        "    index_to_word[idx+1] = token\n",
        "\n",
        "vocab_size = len(index_to_word) + 1 # one for appended 0's\n",
        "\n",
        "print(len(index_to_word))\n",
        "\n",
        "## MAX LENGTH OF CAPTIONS\n",
        "\n",
        "def max_len_caption(all_train_captions):   \n",
        "    max_len = 0\n",
        "    for caption in all_train_captions:\n",
        "        max_len = max(max_len,len(caption.split()))\n",
        "    print('Maximum length of caption= ',max_len)\n",
        "    return max_len\n",
        "\n",
        "max_length_caption = max_len_caption( captions )"
      ],
      "execution_count": null,
      "outputs": [
        {
          "output_type": "stream",
          "text": [
            "Number of original tokens 2249\n",
            "Number of tokens after threshold 2228\n",
            "2228\n",
            "Maximum length of caption=  16\n"
          ],
          "name": "stdout"
        }
      ]
    },
    {
      "cell_type": "markdown",
      "metadata": {
        "id": "Prab6hQHh51p"
      },
      "source": [
        "#### Extracting the image folder"
      ]
    },
    {
      "cell_type": "code",
      "metadata": {
        "id": "gNzsXyNLh7sY",
        "colab": {
          "base_uri": "https://localhost:8080/"
        },
        "outputId": "ee19803b-0044-43ca-a959-73de79cc25c4"
      },
      "source": [
        "## UNZIPPING IMAGES\n",
        "from zipfile import ZipFile\n",
        "\n",
        "filename= main_dir+'images_v5.zip'\n",
        "print(filename)\n",
        "zip = ZipFile(filename)\n",
        "zip.extractall()\n",
        "\n",
        "import os\n",
        "print(len(os.listdir('/content/images_v5')))"
      ],
      "execution_count": null,
      "outputs": [
        {
          "output_type": "stream",
          "text": [
            "/content/drive/My Drive/ImageCaptioning/images_v5.zip\n",
            "31041\n"
          ],
          "name": "stdout"
        }
      ]
    },
    {
      "cell_type": "markdown",
      "metadata": {
        "id": "53cz5ZT0iNQz"
      },
      "source": [
        "#### Extracting the image features and storing it in a dictionary"
      ]
    },
    {
      "cell_type": "code",
      "metadata": {
        "id": "IkpKYY32h8Tx"
      },
      "source": [
        "#from tensorflow.keras.applications.inception_v3 import InceptionV3, preprocess_input\n",
        "from tensorflow.keras.applications.resnet_v2 import ResNet50V2, preprocess_input\n",
        "\n",
        "def load_img_features(product_ids):\n",
        "\tfeatures=dict()\n",
        "\tproduct_ids_new = []\n",
        "\tmodel = ResNet50V2(include_top=False, pooling='max')\n",
        "\timage_dir ='/content/images_v5/'\n",
        "\n",
        "\tfor j,id in enumerate(product_ids): \n",
        "\t\tif j%100 == 0:\n",
        "\t\t\tprint(j)\n",
        "\t\ttry:\n",
        "\t\t\timage_name = image_dir+ id+'.jpg'\n",
        "\t\t\timage=  load_img(image_name,target_size=(299, 299,3))\n",
        "\t\t\timage = img_to_array(image)\n",
        "\t\t\timage = image.reshape((1, image.shape[0], image.shape[1], image.shape[2]))\n",
        "\t\t\timage = preprocess_input(image)\n",
        "\t\t\tfeature = model.predict(image, verbose=0)\n",
        "\t\t\tproduct_ids_new.append(id)\n",
        "\t\t\tfeatures[id] = feature.reshape(2,2,512)\n",
        "\t\texcept OSError:\n",
        "\t\t  print(\"Error with file\")\n",
        "  \n",
        "\tprint(\"Loaded\", len(features.keys()) ,\"number of features\" )\n",
        "\tprint(features[id].shape)\n",
        "\tprint(type(features[id]))\n",
        "\treturn features, product_ids_new\n"
      ],
      "execution_count": null,
      "outputs": []
    },
    {
      "cell_type": "code",
      "metadata": {
        "id": "n3XQekO_iYaE",
        "colab": {
          "base_uri": "https://localhost:8080/"
        },
        "outputId": "b2b5dd5d-6481-42d2-c292-c248b907cdab"
      },
      "source": [
        "print(\"Loading train data...\")\n",
        "train_features, train_product_ids = load_img_features(train_product_ids)\n",
        "print(\"Finished loading train data!\")\n",
        "\n",
        "print(\"Loading validation data.....\")\n",
        "val_features, val_product_ids = load_img_features(val_product_ids)\n",
        "print(\"Finished loading validation data\")"
      ],
      "execution_count": null,
      "outputs": [
        {
          "output_type": "stream",
          "text": [
            "Loading train data...\n",
            "Downloading data from https://storage.googleapis.com/tensorflow/keras-applications/resnet/resnet50v2_weights_tf_dim_ordering_tf_kernels_notop.h5\n",
            "94674944/94668760 [==============================] - 1s 0us/step\n",
            "0\n",
            "Error with file\n",
            "100\n",
            "200\n",
            "300\n",
            "400\n",
            "500\n",
            "600\n",
            "700\n",
            "800\n",
            "900\n",
            "Error with file\n",
            "1000\n",
            "1100\n",
            "1200\n",
            "Error with file\n",
            "1300\n",
            "1400\n",
            "1500\n",
            "Error with file\n",
            "1600\n",
            "1700\n",
            "1800\n",
            "1900\n",
            "2000\n",
            "2100\n",
            "2200\n",
            "2300\n",
            "2400\n",
            "2500\n",
            "2600\n",
            "2700\n",
            "2800\n",
            "2900\n",
            "3000\n",
            "3100\n",
            "3200\n",
            "3300\n",
            "Error with file\n",
            "3400\n",
            "3500\n",
            "Error with file\n",
            "3600\n",
            "3700\n",
            "3800\n",
            "3900\n",
            "4000\n",
            "4100\n",
            "4200\n",
            "4300\n",
            "4400\n",
            "4500\n",
            "4600\n",
            "Error with file\n",
            "4700\n",
            "4800\n",
            "4900\n",
            "5000\n",
            "Error with file\n",
            "5100\n",
            "5200\n",
            "5300\n",
            "5400\n",
            "5500\n",
            "5600\n",
            "5700\n",
            "Error with file\n",
            "5800\n",
            "5900\n",
            "6000\n",
            "Error with file\n",
            "6100\n",
            "6200\n",
            "Error with file\n",
            "6300\n",
            "6400\n",
            "6500\n",
            "6600\n",
            "6700\n",
            "6800\n",
            "6900\n",
            "7000\n",
            "7100\n",
            "7200\n",
            "7300\n",
            "7400\n",
            "7500\n",
            "7600\n",
            "7700\n",
            "7800\n",
            "7900\n",
            "8000\n",
            "Error with file\n",
            "8100\n",
            "8200\n",
            "8300\n",
            "Error with file\n",
            "8400\n",
            "8500\n",
            "8600\n",
            "8700\n",
            "8800\n",
            "8900\n",
            "9000\n",
            "9100\n",
            "9200\n",
            "9300\n",
            "9400\n",
            "Error with file\n",
            "9500\n",
            "9600\n",
            "9700\n",
            "9800\n",
            "9900\n",
            "Error with file\n",
            "10000\n",
            "10100\n",
            "10200\n",
            "10300\n",
            "10400\n",
            "Error with file\n",
            "10500\n",
            "10600\n",
            "10700\n",
            "10800\n",
            "10900\n",
            "11000\n",
            "11100\n",
            "11200\n",
            "11300\n",
            "11400\n",
            "11500\n",
            "11600\n",
            "11700\n",
            "11800\n",
            "11900\n",
            "12000\n",
            "12100\n",
            "Error with file\n",
            "12200\n",
            "12300\n",
            "12400\n",
            "12500\n",
            "12600\n",
            "12700\n",
            "12800\n",
            "12900\n",
            "13000\n",
            "13100\n",
            "13200\n",
            "13300\n",
            "Error with file\n",
            "13400\n",
            "13500\n",
            "13600\n",
            "13700\n",
            "13800\n",
            "13900\n",
            "14000\n",
            "Error with file\n",
            "14100\n",
            "14200\n",
            "14300\n",
            "14400\n",
            "14500\n",
            "14600\n",
            "14700\n",
            "14800\n",
            "14900\n",
            "15000\n",
            "15100\n",
            "15200\n",
            "Error with file\n",
            "15300\n",
            "15400\n",
            "Error with file\n",
            "15500\n",
            "Error with file\n",
            "15600\n",
            "Error with file\n",
            "15700\n",
            "15800\n",
            "15900\n",
            "16000\n",
            "16100\n",
            "16200\n",
            "16300\n",
            "16400\n",
            "16500\n",
            "16600\n",
            "16700\n",
            "16800\n",
            "16900\n",
            "17000\n",
            "Error with file\n",
            "17100\n",
            "17200\n",
            "17300\n",
            "17400\n",
            "Error with file\n",
            "17500\n",
            "17600\n",
            "Error with file\n",
            "17700\n",
            "17800\n",
            "17900\n",
            "18000\n",
            "18100\n",
            "18200\n",
            "18300\n",
            "18400\n",
            "18500\n",
            "18600\n",
            "18700\n",
            "18800\n",
            "18900\n",
            "19000\n",
            "19100\n",
            "19200\n",
            "19300\n",
            "19400\n",
            "19500\n",
            "19600\n",
            "19700\n",
            "19800\n",
            "19900\n",
            "20000\n",
            "20100\n",
            "20200\n",
            "20300\n",
            "20400\n",
            "Error with file\n",
            "20500\n",
            "20600\n",
            "20700\n",
            "20800\n",
            "20900\n",
            "21000\n",
            "21100\n",
            "21200\n",
            "21300\n",
            "21400\n",
            "21500\n",
            "21600\n",
            "21700\n",
            "21800\n",
            "21900\n",
            "22000\n",
            "22100\n",
            "22200\n",
            "22300\n",
            "22400\n",
            "22500\n",
            "22600\n",
            "22700\n",
            "22800\n",
            "22900\n",
            "23000\n",
            "23100\n",
            "23200\n",
            "Error with file\n",
            "23300\n",
            "23400\n",
            "23500\n",
            "23600\n",
            "23700\n",
            "23800\n",
            "23900\n",
            "24000\n",
            "24100\n",
            "24200\n",
            "24300\n",
            "24400\n",
            "24500\n",
            "24600\n",
            "Error with file\n",
            "24700\n",
            "24800\n",
            "24900\n",
            "25000\n",
            "25100\n",
            "25200\n",
            "25300\n",
            "25400\n",
            "25500\n",
            "25600\n",
            "25700\n",
            "25800\n",
            "25900\n",
            "26000\n",
            "26100\n",
            "26200\n",
            "26300\n",
            "26400\n",
            "26500\n",
            "26600\n",
            "26700\n",
            "26800\n",
            "26900\n",
            "27000\n",
            "27100\n",
            "27200\n",
            "27300\n",
            "27400\n",
            "27500\n",
            "27600\n",
            "27700\n",
            "27800\n",
            "27900\n",
            "Loaded 27907 number of features\n",
            "(2, 2, 512)\n",
            "<class 'numpy.ndarray'>\n",
            "Finished loading train data!\n",
            "Loading validation data.....\n",
            "0\n",
            "100\n",
            "200\n",
            "300\n",
            "Error with file\n",
            "400\n",
            "500\n",
            "600\n",
            "700\n",
            "800\n",
            "900\n",
            "1000\n",
            "Error with file\n",
            "1100\n",
            "1200\n",
            "1300\n",
            "1400\n",
            "1500\n",
            "Loaded 1550 number of features\n",
            "(2, 2, 512)\n",
            "<class 'numpy.ndarray'>\n",
            "Finished loading validation data\n"
          ],
          "name": "stdout"
        }
      ]
    },
    {
      "cell_type": "markdown",
      "metadata": {
        "id": "fSTpZ7fficuQ"
      },
      "source": [
        "#### Loading the captions dictionary\n",
        "\n",
        "Creating seperate dictionaries for different splits of data, along with the `<startseq>` and `<endseq>` token."
      ]
    },
    {
      "cell_type": "code",
      "metadata": {
        "id": "s92vs0hxiZ6Y"
      },
      "source": [
        "def load_captions_dict(descriptions,train_product_ids):\n",
        "    train_captions=dict()\n",
        "    for image_id in descriptions.keys():\n",
        "      if image_id in train_product_ids:\n",
        "        train_captions[image_id]= 'startseq '+descriptions[image_id]+' endseq'\n",
        "    \n",
        "    return train_captions"
      ],
      "execution_count": null,
      "outputs": []
    },
    {
      "cell_type": "code",
      "metadata": {
        "id": "SKeuB5rpifHs"
      },
      "source": [
        "train_captions = load_captions_dict(descriptions,train_product_ids)\n",
        "val_captions = load_captions_dict(descriptions, val_product_ids)"
      ],
      "execution_count": null,
      "outputs": []
    },
    {
      "cell_type": "markdown",
      "metadata": {
        "id": "7DeYsHKVipuU"
      },
      "source": [
        "#### Pre-processing categories"
      ]
    },
    {
      "cell_type": "code",
      "metadata": {
        "id": "zzbpKA-AisIH"
      },
      "source": [
        "# PREPROCESSING CATEGORIES\n",
        "import pandas as pd\n",
        "\n",
        "encoded_data, mapping_index = pd.Series(list(unq_categories)).factorize()\n",
        "\n",
        "def oneHotEncoding(x):\n",
        "    ans = np.zeros((len(unq_categories)))\n",
        "    ans[x] = 1\n",
        "    return ans\n",
        "\n",
        "def load_categories_dict(categories, train_product_ids):\n",
        "\ttrain_categories=dict()\n",
        "\tfor image_id in categories.keys():\n",
        "\t\tif image_id in train_product_ids:\n",
        "\t\t\tx = mapping_index.get_loc(categories[image_id])\n",
        "\t\t\ttrain_categories[image_id] = oneHotEncoding(x)\n",
        "\treturn train_categories\n",
        "\n",
        "train_categories = load_categories_dict(categories, train_product_ids)\n",
        "val_categories = load_categories_dict(categories, val_product_ids)\n",
        "test_categories = load_categories_dict(categories, test_product_ids)"
      ],
      "execution_count": null,
      "outputs": []
    },
    {
      "cell_type": "markdown",
      "metadata": {
        "id": "lj-2qerLiueD"
      },
      "source": [
        "#### Defining the Attention Layer"
      ]
    },
    {
      "cell_type": "code",
      "metadata": {
        "id": "Cn4LnM0-iw5U"
      },
      "source": [
        "class Attention(Layer):\n",
        "    def __init__(self, step_dim,\n",
        "                 W_regularizer=None, b_regularizer=None,\n",
        "                 W_constraint=None, b_constraint=None,\n",
        "                 bias=True, **kwargs):\n",
        " \n",
        "        self.supports_masking = True\n",
        "        self.init = initializers.get('glorot_uniform')\n",
        "\n",
        "        self.W_regularizer = regularizers.get(W_regularizer)\n",
        "        self.b_regularizer = regularizers.get(b_regularizer)\n",
        "\n",
        "        self.W_constraint = constraints.get(W_constraint)\n",
        "        self.b_constraint = constraints.get(b_constraint)\n",
        "\n",
        "        self.bias = bias\n",
        "        self.step_dim = step_dim\n",
        "        self.features_dim = 0\n",
        "        super(Attention, self).__init__(**kwargs)\n",
        "\n",
        "    def get_config(self):\n",
        "        config = super().get_config().copy()\n",
        "        config.update({\n",
        "                #'supports_masking':self.supports_masking,\n",
        "                #'init':self.init,\n",
        "                'W_regularizer': self.W_regularizer,\n",
        "                'b_regularizer': self.b_regularizer,\n",
        "                'W_constraint': self.W_constraint,\n",
        "                'b_constraint': self.b_constraint,\n",
        "                'bias': self.bias,\n",
        "                'step_dim':self.step_dim,\n",
        "                #'features_dim':self.features_dim,\n",
        "        })\n",
        "        return config\n",
        "\n",
        "    def build(self, input_shape):\n",
        "        assert len(input_shape) == 3\n",
        "\n",
        "        self.W = self.add_weight(shape=(input_shape[-1],),\n",
        "                                 initializer=self.init,\n",
        "                                 name='{}_W'.format(self.name),\n",
        "                                 regularizer=self.W_regularizer,\n",
        "                                 constraint=self.W_constraint)\n",
        "        self.features_dim = input_shape[-1]\n",
        "\n",
        "        if self.bias:\n",
        "            self.b = self.add_weight(shape=(input_shape[1],),\n",
        "                                     initializer='zero',\n",
        "                                     name='{}_b'.format(self.name),\n",
        "                                     regularizer=self.b_regularizer,\n",
        "                                     constraint=self.b_constraint)\n",
        "        else:\n",
        "            self.b = None\n",
        "\n",
        "        self.built = True\n",
        "\n",
        "    def compute_mask(self, input, input_mask=None):\n",
        "        return None\n",
        "\n",
        "    def call(self, x, mask=None):\n",
        "\n",
        "        features_dim = self.features_dim\n",
        "        step_dim = self.step_dim\n",
        "\n",
        "        eij = K.reshape(K.dot(K.reshape(x, (-1, features_dim)), K.reshape(self.W, (features_dim, 1))), (-1, step_dim))\n",
        "\n",
        "        if self.bias:\n",
        "            eij += self.b\n",
        "\n",
        "        eij = K.tanh(eij)\n",
        "        a = K.exp(eij)\n",
        "        a /= K.cast(K.sum(a, axis=1, keepdims=True) + K.epsilon(), K.floatx())\n",
        "\n",
        "        a = K.expand_dims(a)\n",
        "        weighted_input = x * a\n",
        "        return K.sum(weighted_input, axis=1)\n",
        "\n",
        "    def compute_output_shape(self, input_shape):\n",
        "        return input_shape[0],  self.features_dim"
      ],
      "execution_count": null,
      "outputs": []
    },
    {
      "cell_type": "markdown",
      "metadata": {
        "id": "EV2e7I5-iz8P"
      },
      "source": [
        "#### Defining the model"
      ]
    },
    {
      "cell_type": "code",
      "metadata": {
        "id": "L_PKBAK7i1N4",
        "colab": {
          "base_uri": "https://localhost:8080/"
        },
        "outputId": "831cf745-8fdf-4fd7-ae27-7185c29a4a56"
      },
      "source": [
        "from tensorflow.keras.layers import GlobalAveragePooling2D, Reshape, TimeDistributed\n",
        "\n",
        "ImageInput =Input(shape=(2,2,512,))\n",
        "ImageEncoder = Conv2D(512,(3,3),padding='same',activation='relu')(ImageInput)\n",
        "ImageEncoder = MaxPooling2D((2,2))(ImageEncoder)\n",
        "ImageEncoder = Conv2D(512,(3,3),padding='same',activation='relu')(ImageEncoder)\n",
        "ImageEncoder = Conv2D(512,(1,1),padding='same',activation='relu')(ImageEncoder)\n",
        "ImageEncoder = Flatten()(ImageEncoder)\n",
        "ImageEncoder = Dropout(0.4)(ImageEncoder)\n",
        "ImageEncoder = Dense(1024, activation='relu')(ImageEncoder)\n",
        "ImageEncoder = Dense(256, activation='relu')(ImageEncoder)\n",
        "Classifier = Dense(len(unq_categories), activation='softmax', name='classifier_output')(ImageEncoder)\n",
        "\n",
        "# Language Encoder\n",
        "LanguageEncoderInput = Input(shape=(max_length_caption,))\n",
        "LanguageEncoder = Embedding(vocab_size, 128, mask_zero=True)(LanguageEncoderInput)\n",
        "LanguageEncoder = Dropout(0.35)(LanguageEncoder)\n",
        "LanguageEncoder = Bidirectional(GRU(128, return_sequences=True, dropout=0.25))(LanguageEncoder) \n",
        "LanguageEncoder = Bidirectional(GRU(128, return_sequences=True, dropout=0.25))(LanguageEncoder) \n",
        "LanguageEncoder = Attention(max_length_caption)(LanguageEncoder)\n",
        "\n",
        "#Decoder\n",
        "Decoder = Add()([ImageEncoder, LanguageEncoder])\n",
        "Decoder = Reshape((1,256))(Decoder)\n",
        "Decoder = Bidirectional(GRU(128, return_sequences=True,dropout=0.25))(Decoder) \n",
        "Decoder = Flatten()(Decoder)\n",
        "Decoder = Dropout(0.4)(Decoder)\n",
        "Decoder = Dense(1024, activation='relu')(Decoder)\n",
        "Decoder = Dropout(0.4)(Decoder)\n",
        "Decoder = Dense(500, activation='relu')(Decoder)\n",
        "\n",
        "FinalDecoder = Dense(vocab_size, activation='softmax', name='decoder_output')(Decoder)\n",
        "losses = {\n",
        "\t\"classifier_output\": \"categorical_crossentropy\",\n",
        "\t\"decoder_output\": \"categorical_crossentropy\",\n",
        "}\n",
        "\n",
        "lossWeights = { \"classifier_output\": 0.5, \"decoder_output\": 1.5 }\n",
        "\n",
        "model = Model( inputs = [ImageInput, LanguageEncoderInput],\n",
        "               outputs=[FinalDecoder, Classifier], name='Captioner')\n",
        "model.compile(loss=losses, loss_weights = lossWeights, optimizer=Adam(lr=5e-5,decay=1e-5))\n",
        "model.summary()"
      ],
      "execution_count": null,
      "outputs": [
        {
          "output_type": "stream",
          "text": [
            "Model: \"Captioner\"\n",
            "__________________________________________________________________________________________________\n",
            "Layer (type)                    Output Shape         Param #     Connected to                     \n",
            "==================================================================================================\n",
            "input_3 (InputLayer)            [(None, 2, 2, 512)]  0                                            \n",
            "__________________________________________________________________________________________________\n",
            "conv2d (Conv2D)                 (None, 2, 2, 512)    2359808     input_3[0][0]                    \n",
            "__________________________________________________________________________________________________\n",
            "max_pooling2d_6 (MaxPooling2D)  (None, 1, 1, 512)    0           conv2d[0][0]                     \n",
            "__________________________________________________________________________________________________\n",
            "conv2d_1 (Conv2D)               (None, 1, 1, 512)    2359808     max_pooling2d_6[0][0]            \n",
            "__________________________________________________________________________________________________\n",
            "input_4 (InputLayer)            [(None, 16)]         0                                            \n",
            "__________________________________________________________________________________________________\n",
            "conv2d_2 (Conv2D)               (None, 1, 1, 512)    262656      conv2d_1[0][0]                   \n",
            "__________________________________________________________________________________________________\n",
            "embedding (Embedding)           (None, 16, 128)      285312      input_4[0][0]                    \n",
            "__________________________________________________________________________________________________\n",
            "flatten (Flatten)               (None, 512)          0           conv2d_2[0][0]                   \n",
            "__________________________________________________________________________________________________\n",
            "dropout_1 (Dropout)             (None, 16, 128)      0           embedding[0][0]                  \n",
            "__________________________________________________________________________________________________\n",
            "dropout (Dropout)               (None, 512)          0           flatten[0][0]                    \n",
            "__________________________________________________________________________________________________\n",
            "bidirectional (Bidirectional)   (None, 16, 256)      198144      dropout_1[0][0]                  \n",
            "__________________________________________________________________________________________________\n",
            "dense (Dense)                   (None, 1024)         525312      dropout[0][0]                    \n",
            "__________________________________________________________________________________________________\n",
            "bidirectional_1 (Bidirectional) (None, 16, 256)      296448      bidirectional[0][0]              \n",
            "__________________________________________________________________________________________________\n",
            "dense_1 (Dense)                 (None, 256)          262400      dense[0][0]                      \n",
            "__________________________________________________________________________________________________\n",
            "attention (Attention)           (None, 256)          272         bidirectional_1[0][0]            \n",
            "__________________________________________________________________________________________________\n",
            "add (Add)                       (None, 256)          0           dense_1[0][0]                    \n",
            "                                                                 attention[0][0]                  \n",
            "__________________________________________________________________________________________________\n",
            "reshape (Reshape)               (None, 1, 256)       0           add[0][0]                        \n",
            "__________________________________________________________________________________________________\n",
            "bidirectional_2 (Bidirectional) (None, 1, 256)       296448      reshape[0][0]                    \n",
            "__________________________________________________________________________________________________\n",
            "flatten_1 (Flatten)             (None, 256)          0           bidirectional_2[0][0]            \n",
            "__________________________________________________________________________________________________\n",
            "dropout_2 (Dropout)             (None, 256)          0           flatten_1[0][0]                  \n",
            "__________________________________________________________________________________________________\n",
            "dense_2 (Dense)                 (None, 1024)         263168      dropout_2[0][0]                  \n",
            "__________________________________________________________________________________________________\n",
            "dropout_3 (Dropout)             (None, 1024)         0           dense_2[0][0]                    \n",
            "__________________________________________________________________________________________________\n",
            "dense_3 (Dense)                 (None, 500)          512500      dropout_3[0][0]                  \n",
            "__________________________________________________________________________________________________\n",
            "decoder_output (Dense)          (None, 2229)         1116729     dense_3[0][0]                    \n",
            "__________________________________________________________________________________________________\n",
            "classifier_output (Dense)       (None, 14)           3598        dense_1[0][0]                    \n",
            "==================================================================================================\n",
            "Total params: 8,742,603\n",
            "Trainable params: 8,742,603\n",
            "Non-trainable params: 0\n",
            "__________________________________________________________________________________________________\n"
          ],
          "name": "stdout"
        }
      ]
    },
    {
      "cell_type": "markdown",
      "metadata": {
        "id": "ctTK4YKHi-_o"
      },
      "source": [
        "#### Plotting the model"
      ]
    },
    {
      "cell_type": "code",
      "metadata": {
        "id": "8YmNrJdnjApJ",
        "colab": {
          "base_uri": "https://localhost:8080/",
          "height": 1000
        },
        "outputId": "fc3b7504-2495-45d0-d732-ad7868dad297"
      },
      "source": [
        "from keras.utils import plot_model\n",
        "plot_model(model)"
      ],
      "execution_count": null,
      "outputs": [
        {
          "output_type": "execute_result",
          "data": {
            "image/png": "[encoded data removed]",
            "text/plain": [
              "<IPython.core.display.Image object>"
            ]
          },
          "metadata": {
            "tags": []
          },
          "execution_count": 18
        }
      ]
    },
    {
      "cell_type": "markdown",
      "metadata": {
        "id": "hm_PlDCWjENJ"
      },
      "source": [
        "#### Defining the custom data generator"
      ]
    },
    {
      "cell_type": "code",
      "metadata": {
        "id": "rRK6wcGOjGo_"
      },
      "source": [
        "def data_generator(descriptions, wordtoix, photos, categories, max_length, num_photos_per_batch):\n",
        "\n",
        "\timage_dir ='/content/images_v5/'\n",
        "\t#in_layer = Input(shape=(224, 224, 3))\n",
        "\n",
        "\tX1, X2, y1, y2 = list(), list(), list(), list()\n",
        "\tn=0\n",
        "\t# loop for ever over images\n",
        "\twhile 1:\n",
        "\t\tfor key, desc in descriptions.items():\n",
        "\t\t\tn+=1\n",
        "\t\t\t# retrieve the photo feature\n",
        "\t\t\ttemp=main_dir\n",
        "\t\t\ttry:\n",
        "\t\t\t\tphoto = photos[key]\n",
        "\t\t\t\n",
        "\t\t\t\tfor abc in range(1):\n",
        "\t\t\t\t\t\t# encode the sequence\n",
        "\t\t\t\t\n",
        "\t\t\t\t\tseq = [wordtoix[word] for word in desc.split(' ') if word in wordtoix]\n",
        "\t\t\t\t\t\t\n",
        "\t\t\t\t\t# split one sequence into multiple X, y pairs\n",
        "\t\t\t\t\tfor i in range(1, len(seq)):\n",
        "\t\t\t\t\t\t# split into input and output pair\n",
        "\t\t\t\t\t\tin_seq, out_seq = seq[:i], seq[i]\n",
        "\t\t\t\t\t\t# pad input sequence\n",
        "\t\t\t\t\t\tin_seq = pad_sequences([in_seq], maxlen=max_length, dtype='float64')[0]\n",
        "\t\t\t\t\t\t# encode output sequence\n",
        "\t\t\t\t\t\tout_seq = to_categorical([out_seq], num_classes=vocab_size)[0]\n",
        "\t\t\t\t\t\t# store\n",
        "\t\t\t\t\t\n",
        "\t\t\t\t\t\tX1.append(photo)\n",
        "\t\t\t\t\t\tX2.append(in_seq)\n",
        "\t\t\t\t\t\ty1.append(out_seq)\n",
        "\t\t\t\t\t\ty2.append(categories[key])\n",
        "\t\t\texcept KeyError:\n",
        "\t\t\t\tcontinue\n",
        "\n",
        "\t\t\t# yield the batch data\n",
        "\t\t\tif n==num_photos_per_batch:\n",
        "\t\t\t\tyield ([np.array(X1, dtype='float64'),\n",
        "\t\t\t\t\t\t\tnp.array(X2, dtype='float64')], {'decoder_output':np.array(y1, dtype='float64'),\n",
        "\t\t\t\t\t\t\t\t\t\t\t\t\t\t\t'classifier_output':np.array(y2, dtype='float64')})\n",
        "\t\t\t\t\n",
        "\t\t\t\t#X1, X2, y1, y2 = list(), list(), list(), list()\n",
        "\t\t\t\tX1, X2, y1, y2 = list(), list(), list(), list()\n",
        "\t\t\t\tn=0\n",
        "\t\t\t"
      ],
      "execution_count": null,
      "outputs": []
    },
    {
      "cell_type": "markdown",
      "metadata": {
        "id": "t6i7vn54jgkO"
      },
      "source": [
        "#### Training the model"
      ]
    },
    {
      "cell_type": "code",
      "metadata": {
        "id": "-FBeAd-wjiEt"
      },
      "source": [
        "epochs = 100\n",
        "number_pics_per_batch = 64\n",
        "output_dir = main_dir + 'model5/'\n",
        "temp = main_dir"
      ],
      "execution_count": null,
      "outputs": []
    },
    {
      "cell_type": "code",
      "metadata": {
        "id": "zNDzl9ZCjkrH"
      },
      "source": [
        "generator = data_generator(train_captions,  word_to_index, train_features ,train_categories, max_length_caption, number_pics_per_batch)\n",
        "val_generator = data_generator(val_captions, word_to_index, val_features, val_categories, max_length_caption, number_pics_per_batch)"
      ],
      "execution_count": null,
      "outputs": []
    },
    {
      "cell_type": "code",
      "metadata": {
        "id": "OUX05FUZjmtw",
        "colab": {
          "base_uri": "https://localhost:8080/"
        },
        "outputId": "87dd6f5c-273d-42b9-903a-8781f12bba4b"
      },
      "source": [
        "steps = len(train_captions)//number_pics_per_batch\n",
        "\n",
        "from tensorflow.keras.callbacks import ReduceLROnPlateau\n",
        "\n",
        "reduce_lr = ReduceLROnPlateau(monitor='val_loss', patience=5, verbose=1,min_lr=1e-7, factor = 0.5)\n",
        "\n",
        "if os.path.exists(output_dir) == False:\n",
        "    os.mkdir(output_dir)\n",
        "  \n",
        "history = model.fit_generator(generator, validation_data = val_generator, \n",
        "                                    validation_steps = len(val_captions)//number_pics_per_batch\n",
        "                                    ,epochs=epochs,\n",
        "                                steps_per_epoch=steps,\n",
        "                                verbose=1, \n",
        "                               callbacks=[reduce_lr])"
      ],
      "execution_count": null,
      "outputs": [
        {
          "output_type": "stream",
          "text": [
            "WARNING:tensorflow:From <ipython-input-26-01bc13efa158>:15: Model.fit_generator (from tensorflow.python.keras.engine.training) is deprecated and will be removed in a future version.\n",
            "Instructions for updating:\n",
            "Please use Model.fit, which supports generators.\n",
            "Epoch 1/100\n",
            "436/436 [==============================] - 190s 437ms/step - loss: 9.8798 - decoder_output_loss: 5.7426 - classifier_output_loss: 2.5319 - val_loss: 8.6336 - val_decoder_output_loss: 4.9379 - val_classifier_output_loss: 2.4535\n",
            "Epoch 2/100\n",
            "436/436 [==============================] - 106s 242ms/step - loss: 7.8442 - decoder_output_loss: 4.6481 - classifier_output_loss: 1.7440 - val_loss: 8.1161 - val_decoder_output_loss: 4.6400 - val_classifier_output_loss: 2.3122\n",
            "Epoch 3/100\n",
            "436/436 [==============================] - 101s 232ms/step - loss: 7.1353 - decoder_output_loss: 4.2858 - classifier_output_loss: 1.4132 - val_loss: 7.7680 - val_decoder_output_loss: 4.3972 - val_classifier_output_loss: 2.3443\n",
            "Epoch 4/100\n",
            "436/436 [==============================] - 98s 225ms/step - loss: 6.7284 - decoder_output_loss: 4.0033 - classifier_output_loss: 1.4468 - val_loss: 7.3239 - val_decoder_output_loss: 4.1757 - val_classifier_output_loss: 2.1207\n",
            "Epoch 5/100\n",
            "436/436 [==============================] - 95s 219ms/step - loss: 6.3944 - decoder_output_loss: 3.8118 - classifier_output_loss: 1.3535 - val_loss: 7.0987 - val_decoder_output_loss: 4.0561 - val_classifier_output_loss: 2.0292\n",
            "Epoch 6/100\n",
            "436/436 [==============================] - 94s 215ms/step - loss: 6.1197 - decoder_output_loss: 3.6535 - classifier_output_loss: 1.2790 - val_loss: 6.7688 - val_decoder_output_loss: 3.8859 - val_classifier_output_loss: 1.8799\n",
            "Epoch 7/100\n",
            "436/436 [==============================] - 95s 218ms/step - loss: 5.9295 - decoder_output_loss: 3.5377 - classifier_output_loss: 1.2457 - val_loss: 6.6932 - val_decoder_output_loss: 3.8280 - val_classifier_output_loss: 1.9025\n",
            "Epoch 8/100\n",
            "436/436 [==============================] - 90s 206ms/step - loss: 5.7066 - decoder_output_loss: 3.4231 - classifier_output_loss: 1.1438 - val_loss: 6.5835 - val_decoder_output_loss: 3.7707 - val_classifier_output_loss: 1.8548\n",
            "Epoch 9/100\n",
            "436/436 [==============================] - 88s 202ms/step - loss: 5.5226 - decoder_output_loss: 3.3165 - classifier_output_loss: 1.0957 - val_loss: 6.2965 - val_decoder_output_loss: 3.6167 - val_classifier_output_loss: 1.7429\n",
            "Epoch 10/100\n",
            "436/436 [==============================] - 88s 201ms/step - loss: 5.3831 - decoder_output_loss: 3.2086 - classifier_output_loss: 1.1402 - val_loss: 6.2892 - val_decoder_output_loss: 3.6063 - val_classifier_output_loss: 1.7597\n",
            "Epoch 11/100\n",
            "436/436 [==============================] - 86s 198ms/step - loss: 5.2488 - decoder_output_loss: 3.1142 - classifier_output_loss: 1.1551 - val_loss: 6.2220 - val_decoder_output_loss: 3.5581 - val_classifier_output_loss: 1.7697\n",
            "Epoch 12/100\n",
            "436/436 [==============================] - 87s 199ms/step - loss: 5.0832 - decoder_output_loss: 3.0329 - classifier_output_loss: 1.0677 - val_loss: 6.1398 - val_decoder_output_loss: 3.4849 - val_classifier_output_loss: 1.8247\n",
            "Epoch 13/100\n",
            "436/436 [==============================] - 85s 196ms/step - loss: 4.9189 - decoder_output_loss: 2.9590 - classifier_output_loss: 0.9607 - val_loss: 6.1165 - val_decoder_output_loss: 3.4423 - val_classifier_output_loss: 1.9061\n",
            "Epoch 14/100\n",
            "436/436 [==============================] - 85s 195ms/step - loss: 4.8299 - decoder_output_loss: 2.8998 - classifier_output_loss: 0.9605 - val_loss: 6.0106 - val_decoder_output_loss: 3.3892 - val_classifier_output_loss: 1.8536\n",
            "Epoch 15/100\n",
            "436/436 [==============================] - 83s 191ms/step - loss: 4.6938 - decoder_output_loss: 2.8321 - classifier_output_loss: 0.8913 - val_loss: 6.1273 - val_decoder_output_loss: 3.4281 - val_classifier_output_loss: 1.9704\n",
            "Epoch 16/100\n",
            "436/436 [==============================] - 83s 190ms/step - loss: 4.6024 - decoder_output_loss: 2.7835 - classifier_output_loss: 0.8543 - val_loss: 6.2338 - val_decoder_output_loss: 3.4723 - val_classifier_output_loss: 2.0507\n",
            "Epoch 17/100\n",
            "436/436 [==============================] - 84s 192ms/step - loss: 4.5152 - decoder_output_loss: 2.7461 - classifier_output_loss: 0.7922 - val_loss: 6.3595 - val_decoder_output_loss: 3.5069 - val_classifier_output_loss: 2.1983\n",
            "Epoch 18/100\n",
            "436/436 [==============================] - 85s 194ms/step - loss: 4.4267 - decoder_output_loss: 2.6954 - classifier_output_loss: 0.7671 - val_loss: 6.7430 - val_decoder_output_loss: 3.7077 - val_classifier_output_loss: 2.3628\n",
            "Epoch 19/100\n",
            "436/436 [==============================] - ETA: 0s - loss: 4.3429 - decoder_output_loss: 2.6568 - classifier_output_loss: 0.7154\n",
            "Epoch 00019: ReduceLROnPlateau reducing learning rate to 2.499999936844688e-05.\n",
            "436/436 [==============================] - 83s 190ms/step - loss: 4.3429 - decoder_output_loss: 2.6568 - classifier_output_loss: 0.7154 - val_loss: 6.7611 - val_decoder_output_loss: 3.6911 - val_classifier_output_loss: 2.4488\n",
            "Epoch 20/100\n",
            "436/436 [==============================] - 84s 192ms/step - loss: 4.4894 - decoder_output_loss: 2.6488 - classifier_output_loss: 1.0324 - val_loss: 6.1545 - val_decoder_output_loss: 3.5273 - val_classifier_output_loss: 1.7270\n",
            "Epoch 21/100\n",
            "436/436 [==============================] - 84s 193ms/step - loss: 4.4048 - decoder_output_loss: 2.6104 - classifier_output_loss: 0.9785 - val_loss: 6.0578 - val_decoder_output_loss: 3.4723 - val_classifier_output_loss: 1.6987\n",
            "Epoch 22/100\n",
            "436/436 [==============================] - 85s 195ms/step - loss: 4.3782 - decoder_output_loss: 2.5972 - classifier_output_loss: 0.9649 - val_loss: 5.9125 - val_decoder_output_loss: 3.4244 - val_classifier_output_loss: 1.5516\n",
            "Epoch 23/100\n",
            "436/436 [==============================] - 83s 191ms/step - loss: 4.3253 - decoder_output_loss: 2.5738 - classifier_output_loss: 0.9292 - val_loss: 5.8008 - val_decoder_output_loss: 3.3823 - val_classifier_output_loss: 1.4547\n",
            "Epoch 24/100\n",
            "436/436 [==============================] - 84s 192ms/step - loss: 4.2708 - decoder_output_loss: 2.5544 - classifier_output_loss: 0.8785 - val_loss: 5.7211 - val_decoder_output_loss: 3.3431 - val_classifier_output_loss: 1.4129\n",
            "Epoch 25/100\n",
            "436/436 [==============================] - 83s 190ms/step - loss: 4.2156 - decoder_output_loss: 2.5282 - classifier_output_loss: 0.8468 - val_loss: 5.6352 - val_decoder_output_loss: 3.3067 - val_classifier_output_loss: 1.3504\n",
            "Epoch 26/100\n",
            "436/436 [==============================] - 83s 191ms/step - loss: 4.2102 - decoder_output_loss: 2.5199 - classifier_output_loss: 0.8609 - val_loss: 5.6498 - val_decoder_output_loss: 3.3227 - val_classifier_output_loss: 1.3314\n",
            "Epoch 27/100\n",
            "436/436 [==============================] - 84s 193ms/step - loss: 4.1791 - decoder_output_loss: 2.5076 - classifier_output_loss: 0.8355 - val_loss: 5.5391 - val_decoder_output_loss: 3.2738 - val_classifier_output_loss: 1.2568\n",
            "Epoch 28/100\n",
            "436/436 [==============================] - 84s 192ms/step - loss: 4.1626 - decoder_output_loss: 2.4945 - classifier_output_loss: 0.8417 - val_loss: 5.5241 - val_decoder_output_loss: 3.2704 - val_classifier_output_loss: 1.2370\n",
            "Epoch 29/100\n",
            "436/436 [==============================] - 84s 193ms/step - loss: 4.1596 - decoder_output_loss: 2.4896 - classifier_output_loss: 0.8503 - val_loss: 5.5058 - val_decoder_output_loss: 3.2367 - val_classifier_output_loss: 1.3016\n",
            "Epoch 30/100\n",
            "436/436 [==============================] - 83s 191ms/step - loss: 4.1724 - decoder_output_loss: 2.4728 - classifier_output_loss: 0.9263 - val_loss: 5.4313 - val_decoder_output_loss: 3.1994 - val_classifier_output_loss: 1.2643\n",
            "Epoch 31/100\n",
            "436/436 [==============================] - 84s 192ms/step - loss: 4.2058 - decoder_output_loss: 2.4684 - classifier_output_loss: 1.0065 - val_loss: 5.4636 - val_decoder_output_loss: 3.2269 - val_classifier_output_loss: 1.2467\n",
            "Epoch 32/100\n",
            "436/436 [==============================] - 83s 191ms/step - loss: 4.2076 - decoder_output_loss: 2.4658 - classifier_output_loss: 1.0177 - val_loss: 5.3290 - val_decoder_output_loss: 3.1413 - val_classifier_output_loss: 1.2341\n",
            "Epoch 33/100\n",
            "436/436 [==============================] - 85s 194ms/step - loss: 4.1943 - decoder_output_loss: 2.4634 - classifier_output_loss: 0.9985 - val_loss: 5.3825 - val_decoder_output_loss: 3.1700 - val_classifier_output_loss: 1.2550\n",
            "Epoch 34/100\n",
            "436/436 [==============================] - 84s 192ms/step - loss: 4.2338 - decoder_output_loss: 2.4624 - classifier_output_loss: 1.0805 - val_loss: 5.2412 - val_decoder_output_loss: 3.0904 - val_classifier_output_loss: 1.2112\n",
            "Epoch 35/100\n",
            "436/436 [==============================] - 84s 193ms/step - loss: 4.2047 - decoder_output_loss: 2.4460 - classifier_output_loss: 1.0713 - val_loss: 5.2520 - val_decoder_output_loss: 3.0969 - val_classifier_output_loss: 1.2133\n",
            "Epoch 36/100\n",
            "436/436 [==============================] - 83s 191ms/step - loss: 4.1955 - decoder_output_loss: 2.4411 - classifier_output_loss: 1.0676 - val_loss: 5.2759 - val_decoder_output_loss: 3.1143 - val_classifier_output_loss: 1.2089\n",
            "Epoch 37/100\n",
            "436/436 [==============================] - 83s 191ms/step - loss: 4.2345 - decoder_output_loss: 2.4555 - classifier_output_loss: 1.1024 - val_loss: 5.1542 - val_decoder_output_loss: 3.0208 - val_classifier_output_loss: 1.2461\n",
            "Epoch 38/100\n",
            "436/436 [==============================] - 83s 191ms/step - loss: 4.2362 - decoder_output_loss: 2.4425 - classifier_output_loss: 1.1449 - val_loss: 5.1348 - val_decoder_output_loss: 3.0212 - val_classifier_output_loss: 1.2059\n",
            "Epoch 39/100\n",
            "436/436 [==============================] - 84s 192ms/step - loss: 4.1835 - decoder_output_loss: 2.4346 - classifier_output_loss: 1.0632 - val_loss: 4.9828 - val_decoder_output_loss: 2.9088 - val_classifier_output_loss: 1.2391\n",
            "Epoch 40/100\n",
            "436/436 [==============================] - 84s 192ms/step - loss: 4.1755 - decoder_output_loss: 2.4292 - classifier_output_loss: 1.0633 - val_loss: 5.1269 - val_decoder_output_loss: 2.9601 - val_classifier_output_loss: 1.3734\n",
            "Epoch 41/100\n",
            "436/436 [==============================] - 84s 193ms/step - loss: 4.2314 - decoder_output_loss: 2.4382 - classifier_output_loss: 1.1482 - val_loss: 5.2328 - val_decoder_output_loss: 3.0569 - val_classifier_output_loss: 1.2951\n",
            "Epoch 42/100\n",
            "436/436 [==============================] - 85s 194ms/step - loss: 4.2350 - decoder_output_loss: 2.4439 - classifier_output_loss: 1.1384 - val_loss: 5.2236 - val_decoder_output_loss: 3.0370 - val_classifier_output_loss: 1.3362\n",
            "Epoch 43/100\n",
            "436/436 [==============================] - 85s 194ms/step - loss: 4.1859 - decoder_output_loss: 2.4290 - classifier_output_loss: 1.0847 - val_loss: 5.3228 - val_decoder_output_loss: 3.1275 - val_classifier_output_loss: 1.2631\n",
            "Epoch 44/100\n",
            "436/436 [==============================] - ETA: 0s - loss: 4.1986 - decoder_output_loss: 2.4285 - classifier_output_loss: 1.1116\n",
            "Epoch 00044: ReduceLROnPlateau reducing learning rate to 1.249999968422344e-05.\n",
            "436/436 [==============================] - 84s 193ms/step - loss: 4.1986 - decoder_output_loss: 2.4285 - classifier_output_loss: 1.1116 - val_loss: 5.3455 - val_decoder_output_loss: 3.1511 - val_classifier_output_loss: 1.2376\n",
            "Epoch 45/100\n",
            "436/436 [==============================] - 84s 193ms/step - loss: 4.4893 - decoder_output_loss: 2.5892 - classifier_output_loss: 1.2109 - val_loss: 4.8467 - val_decoder_output_loss: 2.8358 - val_classifier_output_loss: 1.1860\n",
            "Epoch 46/100\n",
            "436/436 [==============================] - 85s 194ms/step - loss: 4.4722 - decoder_output_loss: 2.5739 - classifier_output_loss: 1.2227 - val_loss: 4.6531 - val_decoder_output_loss: 2.7135 - val_classifier_output_loss: 1.1656\n",
            "Epoch 47/100\n",
            "436/436 [==============================] - 84s 192ms/step - loss: 4.4158 - decoder_output_loss: 2.5525 - classifier_output_loss: 1.1743 - val_loss: 4.6684 - val_decoder_output_loss: 2.7127 - val_classifier_output_loss: 1.1986\n",
            "Epoch 48/100\n",
            "436/436 [==============================] - 85s 194ms/step - loss: 4.4107 - decoder_output_loss: 2.5527 - classifier_output_loss: 1.1634 - val_loss: 4.6586 - val_decoder_output_loss: 2.7213 - val_classifier_output_loss: 1.1533\n",
            "Epoch 49/100\n",
            "436/436 [==============================] - 84s 192ms/step - loss: 4.4153 - decoder_output_loss: 2.5647 - classifier_output_loss: 1.1363 - val_loss: 4.5598 - val_decoder_output_loss: 2.6691 - val_classifier_output_loss: 1.1122\n",
            "Epoch 50/100\n",
            "436/436 [==============================] - 83s 191ms/step - loss: 4.3858 - decoder_output_loss: 2.5535 - classifier_output_loss: 1.1110 - val_loss: 4.4850 - val_decoder_output_loss: 2.6320 - val_classifier_output_loss: 1.0742\n",
            "Epoch 51/100\n",
            "436/436 [==============================] - 83s 190ms/step - loss: 4.3682 - decoder_output_loss: 2.5528 - classifier_output_loss: 1.0781 - val_loss: 4.4487 - val_decoder_output_loss: 2.6143 - val_classifier_output_loss: 1.0543\n",
            "Epoch 52/100\n",
            "436/436 [==============================] - 83s 190ms/step - loss: 4.3497 - decoder_output_loss: 2.5503 - classifier_output_loss: 1.0485 - val_loss: 4.3816 - val_decoder_output_loss: 2.5780 - val_classifier_output_loss: 1.0293\n",
            "Epoch 53/100\n",
            "436/436 [==============================] - 84s 193ms/step - loss: 4.3119 - decoder_output_loss: 2.5353 - classifier_output_loss: 1.0181 - val_loss: 4.3449 - val_decoder_output_loss: 2.5640 - val_classifier_output_loss: 0.9980\n",
            "Epoch 54/100\n",
            "436/436 [==============================] - 85s 195ms/step - loss: 4.2837 - decoder_output_loss: 2.5245 - classifier_output_loss: 0.9938 - val_loss: 4.3073 - val_decoder_output_loss: 2.5458 - val_classifier_output_loss: 0.9771\n",
            "Epoch 55/100\n",
            "436/436 [==============================] - 85s 195ms/step - loss: 4.2578 - decoder_output_loss: 2.5143 - classifier_output_loss: 0.9726 - val_loss: 4.2779 - val_decoder_output_loss: 2.5322 - val_classifier_output_loss: 0.9592\n",
            "Epoch 56/100\n",
            "436/436 [==============================] - 85s 195ms/step - loss: 4.2389 - decoder_output_loss: 2.5085 - classifier_output_loss: 0.9522 - val_loss: 4.2510 - val_decoder_output_loss: 2.5175 - val_classifier_output_loss: 0.9494\n",
            "Epoch 57/100\n",
            "436/436 [==============================] - 84s 193ms/step - loss: 4.2195 - decoder_output_loss: 2.4993 - classifier_output_loss: 0.9410 - val_loss: 4.2381 - val_decoder_output_loss: 2.5156 - val_classifier_output_loss: 0.9294\n",
            "Epoch 58/100\n",
            "436/436 [==============================] - 85s 195ms/step - loss: 4.2091 - decoder_output_loss: 2.4986 - classifier_output_loss: 0.9224 - val_loss: 4.2150 - val_decoder_output_loss: 2.5050 - val_classifier_output_loss: 0.9150\n",
            "Epoch 59/100\n",
            "436/436 [==============================] - 85s 194ms/step - loss: 4.1997 - decoder_output_loss: 2.4947 - classifier_output_loss: 0.9154 - val_loss: 4.2133 - val_decoder_output_loss: 2.5042 - val_classifier_output_loss: 0.9142\n",
            "Epoch 60/100\n",
            "436/436 [==============================] - 84s 193ms/step - loss: 4.1850 - decoder_output_loss: 2.4875 - classifier_output_loss: 0.9075 - val_loss: 4.1976 - val_decoder_output_loss: 2.4950 - val_classifier_output_loss: 0.9101\n",
            "Epoch 61/100\n",
            "436/436 [==============================] - 85s 195ms/step - loss: 4.1714 - decoder_output_loss: 2.4801 - classifier_output_loss: 0.9025 - val_loss: 4.1696 - val_decoder_output_loss: 2.4851 - val_classifier_output_loss: 0.8840\n",
            "Epoch 62/100\n",
            "436/436 [==============================] - 84s 194ms/step - loss: 4.1476 - decoder_output_loss: 2.4714 - classifier_output_loss: 0.8809 - val_loss: 4.1280 - val_decoder_output_loss: 2.4682 - val_classifier_output_loss: 0.8512\n",
            "Epoch 63/100\n",
            "436/436 [==============================] - 84s 194ms/step - loss: 4.1260 - decoder_output_loss: 2.4636 - classifier_output_loss: 0.8613 - val_loss: 4.0802 - val_decoder_output_loss: 2.4442 - val_classifier_output_loss: 0.8277\n",
            "Epoch 64/100\n",
            "436/436 [==============================] - 85s 195ms/step - loss: 4.1020 - decoder_output_loss: 2.4527 - classifier_output_loss: 0.8458 - val_loss: 4.0548 - val_decoder_output_loss: 2.4393 - val_classifier_output_loss: 0.7919\n",
            "Epoch 65/100\n",
            "436/436 [==============================] - 84s 192ms/step - loss: 4.0833 - decoder_output_loss: 2.4470 - classifier_output_loss: 0.8256 - val_loss: 4.0312 - val_decoder_output_loss: 2.4292 - val_classifier_output_loss: 0.7747\n",
            "Epoch 66/100\n",
            "436/436 [==============================] - 84s 194ms/step - loss: 4.0684 - decoder_output_loss: 2.4428 - classifier_output_loss: 0.8083 - val_loss: 4.0224 - val_decoder_output_loss: 2.4301 - val_classifier_output_loss: 0.7544\n",
            "Epoch 67/100\n",
            "436/436 [==============================] - 84s 192ms/step - loss: 4.0443 - decoder_output_loss: 2.4331 - classifier_output_loss: 0.7892 - val_loss: 4.0142 - val_decoder_output_loss: 2.4267 - val_classifier_output_loss: 0.7481\n",
            "Epoch 68/100\n",
            "436/436 [==============================] - 84s 193ms/step - loss: 4.0310 - decoder_output_loss: 2.4287 - classifier_output_loss: 0.7758 - val_loss: 3.9912 - val_decoder_output_loss: 2.4120 - val_classifier_output_loss: 0.7463\n",
            "Epoch 69/100\n",
            "436/436 [==============================] - 84s 193ms/step - loss: 4.0132 - decoder_output_loss: 2.4195 - classifier_output_loss: 0.7679 - val_loss: 3.9848 - val_decoder_output_loss: 2.4091 - val_classifier_output_loss: 0.7422\n",
            "Epoch 70/100\n",
            "436/436 [==============================] - 85s 194ms/step - loss: 3.9993 - decoder_output_loss: 2.4133 - classifier_output_loss: 0.7587 - val_loss: 3.9826 - val_decoder_output_loss: 2.4068 - val_classifier_output_loss: 0.7447\n",
            "Epoch 71/100\n",
            "436/436 [==============================] - 84s 193ms/step - loss: 3.9855 - decoder_output_loss: 2.4067 - classifier_output_loss: 0.7510 - val_loss: 3.9815 - val_decoder_output_loss: 2.4030 - val_classifier_output_loss: 0.7542\n",
            "Epoch 72/100\n",
            "436/436 [==============================] - 84s 194ms/step - loss: 3.9697 - decoder_output_loss: 2.3985 - classifier_output_loss: 0.7440 - val_loss: 3.9633 - val_decoder_output_loss: 2.3928 - val_classifier_output_loss: 0.7482\n",
            "Epoch 73/100\n",
            "436/436 [==============================] - 84s 193ms/step - loss: 3.9566 - decoder_output_loss: 2.3914 - classifier_output_loss: 0.7391 - val_loss: 3.9670 - val_decoder_output_loss: 2.3969 - val_classifier_output_loss: 0.7435\n",
            "Epoch 74/100\n",
            "436/436 [==============================] - 83s 191ms/step - loss: 3.9403 - decoder_output_loss: 2.3825 - classifier_output_loss: 0.7330 - val_loss: 3.9512 - val_decoder_output_loss: 2.3899 - val_classifier_output_loss: 0.7327\n",
            "Epoch 75/100\n",
            "436/436 [==============================] - 84s 193ms/step - loss: 3.9250 - decoder_output_loss: 2.3733 - classifier_output_loss: 0.7299 - val_loss: 3.9424 - val_decoder_output_loss: 2.3890 - val_classifier_output_loss: 0.7179\n",
            "Epoch 76/100\n",
            "436/436 [==============================] - 84s 193ms/step - loss: 3.9135 - decoder_output_loss: 2.3684 - classifier_output_loss: 0.7216 - val_loss: 3.9366 - val_decoder_output_loss: 2.3869 - val_classifier_output_loss: 0.7125\n",
            "Epoch 77/100\n",
            "436/436 [==============================] - 83s 191ms/step - loss: 3.8985 - decoder_output_loss: 2.3596 - classifier_output_loss: 0.7181 - val_loss: 3.9148 - val_decoder_output_loss: 2.3761 - val_classifier_output_loss: 0.7013\n",
            "Epoch 78/100\n",
            "436/436 [==============================] - 85s 195ms/step - loss: 3.8852 - decoder_output_loss: 2.3540 - classifier_output_loss: 0.7084 - val_loss: 3.8901 - val_decoder_output_loss: 2.3623 - val_classifier_output_loss: 0.6933\n",
            "Epoch 79/100\n",
            "436/436 [==============================] - 86s 197ms/step - loss: 3.8761 - decoder_output_loss: 2.3500 - classifier_output_loss: 0.7021 - val_loss: 3.8850 - val_decoder_output_loss: 2.3613 - val_classifier_output_loss: 0.6862\n",
            "Epoch 80/100\n",
            "436/436 [==============================] - 84s 193ms/step - loss: 3.8589 - decoder_output_loss: 2.3412 - classifier_output_loss: 0.6941 - val_loss: 3.8718 - val_decoder_output_loss: 2.3555 - val_classifier_output_loss: 0.6773\n",
            "Epoch 81/100\n",
            "436/436 [==============================] - 84s 194ms/step - loss: 3.8496 - decoder_output_loss: 2.3372 - classifier_output_loss: 0.6876 - val_loss: 3.8612 - val_decoder_output_loss: 2.3528 - val_classifier_output_loss: 0.6641\n",
            "Epoch 82/100\n",
            "436/436 [==============================] - 84s 192ms/step - loss: 3.8341 - decoder_output_loss: 2.3310 - classifier_output_loss: 0.6751 - val_loss: 3.8537 - val_decoder_output_loss: 2.3494 - val_classifier_output_loss: 0.6593\n",
            "Epoch 83/100\n",
            "436/436 [==============================] - 84s 194ms/step - loss: 3.8185 - decoder_output_loss: 2.3229 - classifier_output_loss: 0.6682 - val_loss: 3.8375 - val_decoder_output_loss: 2.3401 - val_classifier_output_loss: 0.6546\n",
            "Epoch 84/100\n",
            "436/436 [==============================] - 84s 192ms/step - loss: 3.8078 - decoder_output_loss: 2.3182 - classifier_output_loss: 0.6611 - val_loss: 3.8340 - val_decoder_output_loss: 2.3392 - val_classifier_output_loss: 0.6502\n",
            "Epoch 85/100\n",
            "436/436 [==============================] - 84s 192ms/step - loss: 3.7958 - decoder_output_loss: 2.3123 - classifier_output_loss: 0.6547 - val_loss: 3.8204 - val_decoder_output_loss: 2.3314 - val_classifier_output_loss: 0.6465\n",
            "Epoch 86/100\n",
            "436/436 [==============================] - 83s 191ms/step - loss: 3.7815 - decoder_output_loss: 2.3054 - classifier_output_loss: 0.6468 - val_loss: 3.8095 - val_decoder_output_loss: 2.3253 - val_classifier_output_loss: 0.6432\n",
            "Epoch 87/100\n",
            "436/436 [==============================] - 83s 191ms/step - loss: 3.7706 - decoder_output_loss: 2.3008 - classifier_output_loss: 0.6389 - val_loss: 3.8022 - val_decoder_output_loss: 2.3214 - val_classifier_output_loss: 0.6401\n",
            "Epoch 88/100\n",
            "436/436 [==============================] - 84s 193ms/step - loss: 3.7596 - decoder_output_loss: 2.2958 - classifier_output_loss: 0.6317 - val_loss: 3.7986 - val_decoder_output_loss: 2.3197 - val_classifier_output_loss: 0.6382\n",
            "Epoch 89/100\n",
            "436/436 [==============================] - 84s 192ms/step - loss: 3.7384 - decoder_output_loss: 2.2843 - classifier_output_loss: 0.6241 - val_loss: 3.7849 - val_decoder_output_loss: 2.3117 - val_classifier_output_loss: 0.6347\n",
            "Epoch 90/100\n",
            "436/436 [==============================] - 84s 192ms/step - loss: 3.7307 - decoder_output_loss: 2.2805 - classifier_output_loss: 0.6199 - val_loss: 3.7975 - val_decoder_output_loss: 2.3214 - val_classifier_output_loss: 0.6306\n",
            "Epoch 91/100\n",
            "436/436 [==============================] - 83s 191ms/step - loss: 3.7211 - decoder_output_loss: 2.2764 - classifier_output_loss: 0.6129 - val_loss: 3.7916 - val_decoder_output_loss: 2.3170 - val_classifier_output_loss: 0.6321\n",
            "Epoch 92/100\n",
            "436/436 [==============================] - 83s 190ms/step - loss: 3.7078 - decoder_output_loss: 2.2691 - classifier_output_loss: 0.6084 - val_loss: 3.7967 - val_decoder_output_loss: 2.3215 - val_classifier_output_loss: 0.6291\n",
            "Epoch 93/100\n",
            "436/436 [==============================] - 83s 191ms/step - loss: 3.6951 - decoder_output_loss: 2.2632 - classifier_output_loss: 0.6007 - val_loss: 3.7972 - val_decoder_output_loss: 2.3232 - val_classifier_output_loss: 0.6247\n",
            "Epoch 94/100\n",
            "436/436 [==============================] - 83s 191ms/step - loss: 3.6816 - decoder_output_loss: 2.2557 - classifier_output_loss: 0.5961 - val_loss: 3.7739 - val_decoder_output_loss: 2.3081 - val_classifier_output_loss: 0.6235\n",
            "Epoch 95/100\n",
            "436/436 [==============================] - 84s 192ms/step - loss: 3.6733 - decoder_output_loss: 2.2522 - classifier_output_loss: 0.5898 - val_loss: 3.7713 - val_decoder_output_loss: 2.3104 - val_classifier_output_loss: 0.6114\n",
            "Epoch 96/100\n",
            "436/436 [==============================] - 88s 201ms/step - loss: 3.6628 - decoder_output_loss: 2.2470 - classifier_output_loss: 0.5846 - val_loss: 3.7781 - val_decoder_output_loss: 2.3134 - val_classifier_output_loss: 0.6160\n",
            "Epoch 97/100\n",
            "436/436 [==============================] - 88s 202ms/step - loss: 3.6540 - decoder_output_loss: 2.2425 - classifier_output_loss: 0.5805 - val_loss: 3.7894 - val_decoder_output_loss: 2.3230 - val_classifier_output_loss: 0.6097\n",
            "Epoch 98/100\n",
            "436/436 [==============================] - 84s 193ms/step - loss: 3.6437 - decoder_output_loss: 2.2378 - classifier_output_loss: 0.5739 - val_loss: 3.7782 - val_decoder_output_loss: 2.3149 - val_classifier_output_loss: 0.6116\n",
            "Epoch 99/100\n",
            "436/436 [==============================] - 84s 193ms/step - loss: 3.6319 - decoder_output_loss: 2.2314 - classifier_output_loss: 0.5696 - val_loss: 3.7619 - val_decoder_output_loss: 2.3044 - val_classifier_output_loss: 0.6106\n",
            "Epoch 100/100\n",
            "436/436 [==============================] - 84s 193ms/step - loss: 3.6231 - decoder_output_loss: 2.2267 - classifier_output_loss: 0.5659 - val_loss: 3.7509 - val_decoder_output_loss: 2.2996 - val_classifier_output_loss: 0.6032\n"
          ],
          "name": "stdout"
        }
      ]
    },
    {
      "cell_type": "markdown",
      "metadata": {
        "id": "AZ5qtzPXjrkD"
      },
      "source": [
        "#### Saving the model"
      ]
    },
    {
      "cell_type": "code",
      "metadata": {
        "id": "jY7i43j2js7D"
      },
      "source": [
        "model.save(output_dir+'V5(3).h5')"
      ],
      "execution_count": null,
      "outputs": []
    },
    {
      "cell_type": "markdown",
      "metadata": {
        "id": "PhsdEFwSjwyB"
      },
      "source": [
        "#### Plotting the loss curves"
      ]
    },
    {
      "cell_type": "code",
      "metadata": {
        "id": "0olebyISj0vz",
        "colab": {
          "base_uri": "https://localhost:8080/",
          "height": 939
        },
        "outputId": "4cc9e125-b0fd-44f8-a749-72ec35ae1b86"
      },
      "source": [
        "import matplotlib.pyplot as plt\n",
        "print(history.history.keys())\n",
        " \n",
        "# summarize history for loss\n",
        "print('loss')\n",
        "plt.plot(history.history['loss'])\n",
        "plt.plot(history.history['val_loss'])\n",
        "plt.title('model total loss')\n",
        "plt.ylabel('loss')\n",
        "plt.xlabel('epoch')\n",
        "plt.legend(['train', 'val'], loc='upper right')\n",
        "plt.show()\n",
        "\n",
        "\n",
        "print('decoder_output_loss')\n",
        "plt.plot(history.history['decoder_output_loss'])\n",
        "plt.plot(history.history['val_decoder_output_loss'])\n",
        "plt.title('model decoder loss')\n",
        "plt.ylabel('decoder loss')\n",
        "plt.xlabel('epoch')\n",
        "plt.legend(['train', 'val'], loc='upper right')\n",
        "plt.show()\n",
        "\n",
        "\n",
        "print('classifier_output_loss')\n",
        "plt.plot(history.history['classifier_output_loss'])\n",
        "plt.plot(history.history['val_classifier_output_loss'])\n",
        "plt.title('model classifier loss')\n",
        "plt.ylabel('classifier loss')\n",
        "plt.xlabel('epoch')\n",
        "plt.legend(['train', 'val'], loc='upper right')\n",
        "plt.show()"
      ],
      "execution_count": null,
      "outputs": [
        {
          "output_type": "stream",
          "text": [
            "dict_keys(['loss', 'decoder_output_loss', 'classifier_output_loss', 'val_loss', 'val_decoder_output_loss', 'val_classifier_output_loss', 'lr'])\n",
            "loss\n"
          ],
          "name": "stdout"
        },
        {
          "output_type": "display_data",
          "data": {
            "image/png": "[encoded data removed]",
            "text/plain": [
              "<Figure size 432x288 with 1 Axes>"
            ]
          },
          "metadata": {
            "tags": [],
            "needs_background": "light"
          }
        },
        {
          "output_type": "stream",
          "text": [
            "decoder_output_loss\n"
          ],
          "name": "stdout"
        },
        {
          "output_type": "display_data",
          "data": {
            "image/png": "[encoded data removed]",
            "text/plain": [
              "<Figure size 432x288 with 1 Axes>"
            ]
          },
          "metadata": {
            "tags": [],
            "needs_background": "light"
          }
        },
        {
          "output_type": "stream",
          "text": [
            "classifier_output_loss\n"
          ],
          "name": "stdout"
        },
        {
          "output_type": "display_data",
          "data": {
            "image/png": "[encoded data removed]",
            "text/plain": [
              "<Figure size 432x288 with 1 Axes>"
            ]
          },
          "metadata": {
            "tags": [],
            "needs_background": "light"
          }
        }
      ]
    },
    {
      "cell_type": "markdown",
      "metadata": {
        "id": "o9aIpZE8kERW"
      },
      "source": [
        "#### Saving the corresponding data in a **JSON** file for using it while loading the mdoel later."
      ]
    },
    {
      "cell_type": "code",
      "metadata": {
        "id": "-Q7YGS5mkEka",
        "colab": {
          "base_uri": "https://localhost:8080/"
        },
        "outputId": "14519119-f522-4921-a3b7-8b7f13f2f9da"
      },
      "source": [
        "import pandas as pd\n",
        "\n",
        "encoded_data, mapping_index = pd.Series(list(unq_categories)).factorize()\n",
        "print(mapping_index)\n",
        "\n",
        "Categories_mapping = list(mapping_index)\n",
        "print(Categories_mapping)\n",
        "\n",
        "f= open(output_dir+'V5(3).json','w')\n",
        "data = {'word_to_index':word_to_index,\n",
        "        'index_to_word':index_to_word,\n",
        "        'categories_mapping':Categories_mapping,\n",
        "        'max_length_caption':max_length_caption}\n",
        "json.dump(data,f)\n",
        "f.close()"
      ],
      "execution_count": null,
      "outputs": [
        {
          "output_type": "stream",
          "text": [
            "Index(['Women's Kurtas', 'Men's Jeans', 'Women's Sarees', 'Men's Shirts',\n",
            "       'Men's Shoes', 'Men's Jackets', 'Women's Shirts', 'Women's Shoes',\n",
            "       'Women's Dresses', 'Women's Tops', 'Women's T-Shirts', 'Men's T-Shirts',\n",
            "       'Women's Jeans', 'Women's Jackets'],\n",
            "      dtype='object')\n",
            "[\"Women's Kurtas\", \"Men's Jeans\", \"Women's Sarees\", \"Men's Shirts\", \"Men's Shoes\", \"Men's Jackets\", \"Women's Shirts\", \"Women's Shoes\", \"Women's Dresses\", \"Women's Tops\", \"Women's T-Shirts\", \"Men's T-Shirts\", \"Women's Jeans\", \"Women's Jackets\"]\n"
          ],
          "name": "stdout"
        }
      ]
    },
    {
      "cell_type": "markdown",
      "metadata": {
        "id": "jmJuPcYYkJEh"
      },
      "source": [
        "#### Loading the saved model."
      ]
    },
    {
      "cell_type": "code",
      "metadata": {
        "id": "-1EVMq5SkJUJ"
      },
      "source": [
        "from tensorflow.keras.models import load_model\n",
        "output_dir = main_dir + 'model5/'\n",
        "\n",
        "from tensorflow.keras.utils import CustomObjectScope\n",
        "from tensorflow.keras.initializers import glorot_uniform\n",
        "\n",
        "with CustomObjectScope({'GlorotUniform': glorot_uniform()}):\n",
        "    model = load_model(output_dir+'V5(1).h5', custom_objects={'Attention':Attention})"
      ],
      "execution_count": null,
      "outputs": []
    },
    {
      "cell_type": "code",
      "metadata": {
        "id": "PCFvoplrkPlI"
      },
      "source": [
        "f = open(output_dir + 'V5(3).json','r')\n",
        "data = json.load(f)\n",
        "index_to_word = data['index_to_word']\n",
        "word_to_index = data['word_to_index']\n",
        "categories_mapping = data['categories_mapping']\n",
        "\n",
        "max_length_caption = int(data['max_length_caption'])\n",
        "f.close()"
      ],
      "execution_count": null,
      "outputs": []
    },
    {
      "cell_type": "markdown",
      "metadata": {
        "id": "599JuOK2kSXt"
      },
      "source": [
        "#### Loading the test data"
      ]
    },
    {
      "cell_type": "code",
      "metadata": {
        "id": "36k5569EkVHH",
        "colab": {
          "base_uri": "https://localhost:8080/"
        },
        "outputId": "d45929ae-79f6-4a88-aab4-40a8a89aa89f"
      },
      "source": [
        "test_features, test_product_ids = load_img_features(test_product_ids)\n",
        "test_captions = load_captions_dict(descriptions, test_product_ids)"
      ],
      "execution_count": null,
      "outputs": [
        {
          "output_type": "stream",
          "text": [
            "0\n",
            "Error with file\n",
            "100\n",
            "200\n",
            "300\n",
            "400\n",
            "500\n",
            "600\n",
            "700\n",
            "800\n",
            "900\n",
            "1000\n",
            "1100\n",
            "1200\n",
            "1300\n",
            "1400\n",
            "1500\n",
            "Loaded 1552 number of features\n",
            "(2, 2, 512)\n",
            "<class 'numpy.ndarray'>\n"
          ],
          "name": "stdout"
        }
      ]
    },
    {
      "cell_type": "markdown",
      "metadata": {
        "id": "CY-3o8VNkYle"
      },
      "source": [
        "#### Testing the model"
      ]
    },
    {
      "cell_type": "markdown",
      "metadata": {
        "id": "WG1W1V2ikc7W"
      },
      "source": [
        "##### Testing the model without beam search"
      ]
    },
    {
      "cell_type": "code",
      "metadata": {
        "id": "ehuUb45VkaA6"
      },
      "source": [
        "import cv2\n",
        "import matplotlib.pyplot as plt\n",
        "from google.colab.patches import cv2_imshow\n",
        "\n",
        "def greedySearch(photo):\n",
        "    final = 'startseq'\n",
        "\n",
        "    for i in range(max_length_caption):\n",
        "        sequence = [word_to_index[w] for w in final.split(' ') if w in word_to_index]\n",
        "        sequence = pad_sequences([sequence], maxlen = max_length_caption)\n",
        "        yhat = model.predict([photo,sequence],verbose=1)\n",
        "        seq_yhat, cls_yhat = yhat\n",
        "        seq_yhat = str(np.argmax(seq_yhat[0], axis=0))\n",
        "        cls_yhat+=cls_yhat\n",
        "           \n",
        "        word = index_to_word[seq_yhat]\n",
        "        final +=' '+word\n",
        "        if word == 'endseq':\n",
        "            break\n",
        "    cls_yhat = cls_yhat / (i+1)\n",
        "    cls_yhat = np.argmax(cls_yhat)\n",
        "    print(categories_mapping[cls_yhat])\n",
        "    final = final.split()\n",
        "    final = final[1:-1]\n",
        "    final = ' '.join(final)\n",
        "    \n",
        "    return final\n",
        "\n",
        "test_samples = 30\n",
        "for i in range(test_samples):\n",
        "        pic= test_product_ids[i]\n",
        "        print(pic)\n",
        "        image = test_features[pic].reshape(1,2,2,512)\n",
        "        cv2_imshow(cv2.imread('/content/images_v5/'+pic+'.jpg'))\n",
        "\n",
        "        result = greedySearch(image)\n",
        "\n",
        "        print(\"Actual output:\",test_captions[pic])\n",
        "        print(\"Predicted output:\",result)"
      ],
      "execution_count": null,
      "outputs": []
    },
    {
      "cell_type": "code",
      "metadata": {
        "id": "Cx87_Jbq6LGf"
      },
      "source": [
        ""
      ],
      "execution_count": null,
      "outputs": []
    }
  ]
}